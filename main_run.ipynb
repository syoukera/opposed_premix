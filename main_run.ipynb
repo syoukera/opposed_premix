{
 "cells": [
  {
   "cell_type": "code",
   "execution_count": 1,
   "metadata": {
    "scrolled": true
   },
   "outputs": [],
   "source": [
    "# Local package\n",
    "import solution\n",
    "import matplotlib.pyplot as plt"
   ]
  },
  {
   "cell_type": "code",
   "execution_count": 2,
   "metadata": {},
   "outputs": [],
   "source": [
    "s = solution.BaseSolution()"
   ]
  },
  {
   "cell_type": "code",
   "execution_count": 3,
   "metadata": {},
   "outputs": [],
   "source": [
    "s.X_list.interpolate_mole_fraction_arrays()"
   ]
  },
  {
   "cell_type": "code",
   "execution_count": 7,
   "metadata": {
    "scrolled": true
   },
   "outputs": [],
   "source": [
    "import numpy as np\n",
    "# np.concatenate((nd1, nd2), axis=0)"
   ]
  },
  {
   "cell_type": "code",
   "execution_count": 8,
   "metadata": {},
   "outputs": [],
   "source": [
    "for i, arr in enumerate(s.X_list.mf_array_list):\n",
    "#     print(type(arr.variable_array))\n",
    "    \n",
    "    if i == 0:\n",
    "        X = arr.variable_array.reshape((1, -1))\n",
    "    else:\n",
    "        X = np.concatenate((X, arr.variable_array.reshape((1, -1))), axis=0)"
   ]
  },
  {
   "cell_type": "code",
   "execution_count": 12,
   "metadata": {},
   "outputs": [
    {
     "data": {
      "text/plain": [
       "[<matplotlib.lines.Line2D at 0x1a05dfd4088>,\n",
       " <matplotlib.lines.Line2D at 0x1a05dfe2388>,\n",
       " <matplotlib.lines.Line2D at 0x1a05dfe9ec8>,\n",
       " <matplotlib.lines.Line2D at 0x1a05dfe9fc8>,\n",
       " <matplotlib.lines.Line2D at 0x1a05dff1188>,\n",
       " <matplotlib.lines.Line2D at 0x1a05dff1308>,\n",
       " <matplotlib.lines.Line2D at 0x1a05dff1448>,\n",
       " <matplotlib.lines.Line2D at 0x1a05dff15c8>,\n",
       " <matplotlib.lines.Line2D at 0x1a05dff1108>,\n",
       " <matplotlib.lines.Line2D at 0x1a05dff1288>,\n",
       " <matplotlib.lines.Line2D at 0x1a05dfc3088>,\n",
       " <matplotlib.lines.Line2D at 0x1a05dff1b08>,\n",
       " <matplotlib.lines.Line2D at 0x1a05dff1c88>,\n",
       " <matplotlib.lines.Line2D at 0x1a05dff1e08>,\n",
       " <matplotlib.lines.Line2D at 0x1a05dff1f88>,\n",
       " <matplotlib.lines.Line2D at 0x1a05dff6148>,\n",
       " <matplotlib.lines.Line2D at 0x1a05dff62c8>,\n",
       " <matplotlib.lines.Line2D at 0x1a05dff6448>,\n",
       " <matplotlib.lines.Line2D at 0x1a05dff65c8>,\n",
       " <matplotlib.lines.Line2D at 0x1a05dff6748>,\n",
       " <matplotlib.lines.Line2D at 0x1a05dff68c8>,\n",
       " <matplotlib.lines.Line2D at 0x1a05dff6a48>,\n",
       " <matplotlib.lines.Line2D at 0x1a05dff6bc8>,\n",
       " <matplotlib.lines.Line2D at 0x1a05dff6d48>,\n",
       " <matplotlib.lines.Line2D at 0x1a05dff6ec8>,\n",
       " <matplotlib.lines.Line2D at 0x1a05dffa088>,\n",
       " <matplotlib.lines.Line2D at 0x1a05dffa208>,\n",
       " <matplotlib.lines.Line2D at 0x1a05dffa388>,\n",
       " <matplotlib.lines.Line2D at 0x1a05dffa508>,\n",
       " <matplotlib.lines.Line2D at 0x1a05dffa688>,\n",
       " <matplotlib.lines.Line2D at 0x1a05dffa808>,\n",
       " <matplotlib.lines.Line2D at 0x1a05dffa988>,\n",
       " <matplotlib.lines.Line2D at 0x1a05dffab08>,\n",
       " <matplotlib.lines.Line2D at 0x1a05dffac88>,\n",
       " <matplotlib.lines.Line2D at 0x1a05dffae08>,\n",
       " <matplotlib.lines.Line2D at 0x1a05dffaf88>,\n",
       " <matplotlib.lines.Line2D at 0x1a05dffd148>,\n",
       " <matplotlib.lines.Line2D at 0x1a05dffd2c8>,\n",
       " <matplotlib.lines.Line2D at 0x1a05dffd448>,\n",
       " <matplotlib.lines.Line2D at 0x1a05dffd5c8>,\n",
       " <matplotlib.lines.Line2D at 0x1a05dffd748>,\n",
       " <matplotlib.lines.Line2D at 0x1a05dffd8c8>,\n",
       " <matplotlib.lines.Line2D at 0x1a05dffda48>,\n",
       " <matplotlib.lines.Line2D at 0x1a05dffdbc8>,\n",
       " <matplotlib.lines.Line2D at 0x1a05dffdd48>,\n",
       " <matplotlib.lines.Line2D at 0x1a05dffdec8>,\n",
       " <matplotlib.lines.Line2D at 0x1a05e002088>,\n",
       " <matplotlib.lines.Line2D at 0x1a05e002208>,\n",
       " <matplotlib.lines.Line2D at 0x1a05e002388>,\n",
       " <matplotlib.lines.Line2D at 0x1a05e002508>,\n",
       " <matplotlib.lines.Line2D at 0x1a05e002688>,\n",
       " <matplotlib.lines.Line2D at 0x1a05e002808>,\n",
       " <matplotlib.lines.Line2D at 0x1a05e002988>]"
      ]
     },
     "execution_count": 12,
     "metadata": {},
     "output_type": "execute_result"
    },
    {
     "data": {
      "image/png": "[encoded data removed]",
      "text/plain": [
       "<Figure size 432x288 with 1 Axes>"
      ]
     },
     "metadata": {
      "needs_background": "light"
     },
     "output_type": "display_data"
    }
   ],
   "source": [
    "plt.plot(s.y, X.T)"
   ]
  },
  {
   "cell_type": "code",
   "execution_count": null,
   "metadata": {},
   "outputs": [],
   "source": []
  }
 ],
 "metadata": {
  "kernelspec": {
   "display_name": "Python 3",
   "language": "python",
   "name": "python3"
  },
  "language_info": {
   "codemirror_mode": {
    "name": "ipython",
    "version": 3
   },
   "file_extension": ".py",
   "mimetype": "text/x-python",
   "name": "python",
   "nbconvert_exporter": "python",
   "pygments_lexer": "ipython3",
   "version": "3.7.9"
  }
 },
 "nbformat": 4,
 "nbformat_minor": 4
}
