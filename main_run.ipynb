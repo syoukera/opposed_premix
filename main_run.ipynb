{
 "cells": [
  {
   "cell_type": "code",
   "execution_count": 1,
   "metadata": {
    "scrolled": true
   },
   "outputs": [],
   "source": [
    "# Local package\n",
    "import solution\n",
    "import matplotlib.pyplot as plt"
   ]
  },
  {
   "cell_type": "code",
   "execution_count": 2,
   "metadata": {},
   "outputs": [],
   "source": [
    "s = solution.BaseSolution()"
   ]
  },
  {
   "cell_type": "code",
   "execution_count": 3,
   "metadata": {},
   "outputs": [],
   "source": [
    "s.X_list.interpolate_mole_fraction_arrays()"
   ]
  },
  {
   "cell_type": "code",
   "execution_count": 4,
   "metadata": {},
   "outputs": [
    {
     "data": {
      "text/plain": [
       "array([8.28038800e-33, 1.39074512e-25, 2.61119483e-25, ...,\n",
       "       2.73137199e-14, 1.45475247e-14, 1.51824600e-23])"
      ]
     },
     "execution_count": 4,
     "metadata": {},
     "output_type": "execute_result"
    }
   ],
   "source": [
    "s.X_list.list[0].variable_array"
   ]
  },
  {
   "cell_type": "code",
   "execution_count": 5,
   "metadata": {},
   "outputs": [
    {
     "data": {
      "text/plain": [
       "array([[ 8.28038800e-033,  1.39074512e-025,  2.61119483e-025, ...,\n",
       "         2.73137199e-014,  1.45475247e-014,  1.51824600e-023],\n",
       "       [-4.57894900e-055, -5.24679264e-044, -9.85112088e-044, ...,\n",
       "         7.75185110e-035,  4.12870330e-035,  1.27968500e-044],\n",
       "       [ 4.11289800e-050,  1.11971875e-039,  2.10232909e-039, ...,\n",
       "         6.95877066e-025,  3.70630177e-025,  2.10379100e-039],\n",
       "       ...,\n",
       "       [ 1.60605500e-087, -6.00996504e-058, -1.12840160e-057, ...,\n",
       "         1.75590081e-033,  9.35208042e-034,  5.14654100e-055],\n",
       "       [ 5.97005100e-117, -4.33719860e-066, -8.14331165e-066, ...,\n",
       "         5.22085348e-042,  2.78067196e-042,  1.42668900e-082],\n",
       "       [ 1.41437200e-081, -6.03753522e-055, -1.13357804e-054, ...,\n",
       "         2.85544363e-031,  1.52083411e-031,  1.03429200e-051]])"
      ]
     },
     "execution_count": 5,
     "metadata": {},
     "output_type": "execute_result"
    }
   ],
   "source": [
    "s.X_list.get_numpy_matrix()"
   ]
  },
  {
   "cell_type": "code",
   "execution_count": 8,
   "metadata": {},
   "outputs": [
    {
     "data": {
      "text/plain": [
       "<bound method SpeciesList.interpolate_mole_fraction_arrays of <base_array.species_array.MassFractionList object at 0x00000156F20DE608>>"
      ]
     },
     "execution_count": 8,
     "metadata": {},
     "output_type": "execute_result"
    }
   ],
   "source": [
    "s.Y_list.interpolate_mole_fraction_arrays"
   ]
  },
  {
   "cell_type": "code",
   "execution_count": null,
   "metadata": {},
   "outputs": [],
   "source": []
  }
 ],
 "metadata": {
  "kernelspec": {
   "display_name": "Python 3",
   "language": "python",
   "name": "python3"
  },
  "language_info": {
   "codemirror_mode": {
    "name": "ipython",
    "version": 3
   },
   "file_extension": ".py",
   "mimetype": "text/x-python",
   "name": "python",
   "nbconvert_exporter": "python",
   "pygments_lexer": "ipython3",
   "version": "3.7.9"
  }
 },
 "nbformat": 4,
 "nbformat_minor": 4
}
