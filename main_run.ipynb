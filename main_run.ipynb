{
 "cells": [
  {
   "cell_type": "code",
   "execution_count": 1,
   "metadata": {
    "scrolled": true
   },
   "outputs": [],
   "source": [
    "# Local package\n",
    "import solution\n",
    "import matplotlib.pyplot as plt"
   ]
  },
  {
   "cell_type": "code",
   "execution_count": 2,
   "metadata": {},
   "outputs": [],
   "source": [
    "s = solution.BaseSolution()"
   ]
  },
  {
   "cell_type": "code",
   "execution_count": 3,
   "metadata": {},
   "outputs": [],
   "source": [
    "s.interporate_arrays()"
   ]
  },
  {
   "cell_type": "code",
   "execution_count": 5,
   "metadata": {},
   "outputs": [
    {
     "data": {
      "text/plain": [
       "array([0.00000000e+00, 0.00000000e+00, 0.00000000e+00, ...,\n",
       "       2.82752535e-36, 1.50596459e-36, 4.66771321e-46])"
      ]
     },
     "execution_count": 5,
     "metadata": {},
     "output_type": "execute_result"
    }
   ],
   "source": [
    "s.Y_list.list[1].variable_array"
   ]
  },
  {
   "cell_type": "code",
   "execution_count": 5,
   "metadata": {},
   "outputs": [
    {
     "data": {
      "text/plain": [
       "[<matplotlib.lines.Line2D at 0x17fb4642c48>]"
      ]
     },
     "execution_count": 5,
     "metadata": {},
     "output_type": "execute_result"
    },
    {
     "data": {
      "image/png": "[encoded data removed]",
      "text/plain": [
       "<Figure size 432x288 with 1 Axes>"
      ]
     },
     "metadata": {
      "needs_background": "light"
     },
     "output_type": "display_data"
    }
   ],
   "source": [
    "plt.plot(s.y, s.ct_array.P)"
   ]
  },
  {
   "cell_type": "code",
   "execution_count": 7,
   "metadata": {},
   "outputs": [
    {
     "data": {
      "text/plain": [
       "(2001, 53)"
      ]
     },
     "execution_count": 7,
     "metadata": {},
     "output_type": "execute_result"
    }
   ],
   "source": [
    "s.ct_array.Y.shape"
   ]
  },
  {
   "cell_type": "code",
   "execution_count": 8,
   "metadata": {},
   "outputs": [],
   "source": [
    "mat = s.ct_array.Y"
   ]
  },
  {
   "cell_type": "code",
   "execution_count": 33,
   "metadata": {},
   "outputs": [
    {
     "name": "stdout",
     "output_type": "stream",
     "text": [
      "[6.04062350e-34 1.01456208e-26 1.90489200e-26 ... 1.99256240e-15\n",
      " 1.06125606e-15 1.10757521e-24]\n",
      "[0.00000000e+00 0.00000000e+00 0.00000000e+00 ... 2.82752535e-36\n",
      " 1.50596459e-36 4.66771321e-46]\n",
      "[2.38132154e-50 6.48304525e-40 1.21722482e-39 ... 4.02904970e-25\n",
      " 2.14590691e-25 1.21807125e-39]\n",
      "[0.22008508 0.22008508 0.22008508 ... 0.22008508 0.22008508 0.22008508]\n",
      "[7.28801936e-51 0.00000000e+00 0.00000000e+00 ... 2.34765218e-28\n",
      " 1.25037996e-28 9.51803081e-43]\n",
      "[1.28694394e-49 0.00000000e+00 0.00000000e+00 ... 8.38563024e-22\n",
      " 4.46625958e-22 1.32218128e-38]\n",
      "[7.72635694e-39 2.62988059e-38 4.48807481e-38 ... 6.78035722e-25\n",
      " 3.61127721e-25 7.81590746e-39]\n",
      "[1.49924372e-52 0.00000000e+00 0.00000000e+00 ... 3.17262391e-25\n",
      " 1.68976708e-25 1.36348339e-42]\n",
      "[0. 0. 0. ... 0. 0. 0.]\n",
      "[8.47081026e-109 0.00000000e+000 0.00000000e+000 ... 7.38689386e-055\n",
      " 3.93432390e-055 0.00000000e+000]\n",
      "[1.67337577e-56 4.47310550e-44 8.39848380e-44 ... 3.33211916e-39\n",
      " 1.77471572e-39 3.63450322e-46]\n",
      "[1.04591988e-57 9.77877241e-46 1.83601441e-45 ... 1.28654256e-40\n",
      " 6.85223876e-41 4.32852159e-47]\n",
      "[3.80591153e-39 1.23420463e-38 2.08731757e-38 ... 7.91266635e-26\n",
      " 4.21435490e-26 3.94468844e-39]\n",
      "[0.05517037 0.05517037 0.05517037 ... 0.05517037 0.05517037 0.05517037]\n",
      "[5.72928658e-52 3.49670331e-40 6.56523886e-40 ... 4.44002185e-23\n",
      " 2.36479424e-23 2.12997040e-40]\n",
      "[0.00000000e+00 0.00000000e+00 0.00000000e+00 ... 3.54208665e-26\n",
      " 1.88654615e-26 4.79566262e-42]\n",
      "[1.01224783e-77 0.00000000e+00 0.00000000e+00 ... 1.53059190e-43\n",
      " 8.15206556e-44 0.00000000e+00]\n",
      "[1.53667325e-49 1.30128762e-41 2.44323388e-41 ... 3.17562378e-27\n",
      " 1.69136484e-27 2.74429602e-42]\n",
      "[3.73607560e-90 0.00000000e+00 0.00000000e+00 ... 4.02966092e-46\n",
      " 2.14623245e-46 4.94393291e-83]\n",
      "[7.38274800e-57 2.90551029e-56 5.09780545e-56 ... 8.08946202e-35\n",
      " 4.30851781e-35 7.58489180e-57]\n",
      "[1.74425602e-61 0.00000000e+00 0.00000000e+00 ... 3.59891778e-28\n",
      " 1.91681490e-28 1.24408793e-47]\n",
      "[2.50537589e-132 0.00000000e+000 0.00000000e+000 ... 8.59499790e-058\n",
      " 4.57777062e-058 7.29007849e-098]\n",
      "[2.28224143e-73 0.00000000e+00 0.00000000e+00 ... 3.01471206e-28\n",
      " 1.60566186e-28 4.24432459e-47]\n",
      "[1.92674704e-118 0.00000000e+000 0.00000000e+000 ... 7.35789733e-049\n",
      " 3.91888010e-049 4.48466573e-089]\n",
      "[1.17533222e-73 0.00000000e+00 0.00000000e+00 ... 1.12019489e-27\n",
      " 5.96625538e-28 8.49208517e-47]\n",
      "[1.59381292e-78 0.00000000e+00 0.00000000e+00 ... 1.37492878e-40\n",
      " 7.32299025e-41 2.86523682e-78]\n",
      "[2.85466624e-69 0.00000000e+00 0.00000000e+00 ... 3.83549299e-28\n",
      " 2.04281692e-28 7.66298966e-48]\n",
      "[1.61930857e-118 0.00000000e+000 0.00000000e+000 ... 3.66893092e-044\n",
      " 1.95410451e-044 3.14800572e-084]\n",
      "[8.76694334e-81 0.00000000e+00 0.00000000e+00 ... 1.09197184e-30\n",
      " 5.81593700e-31 4.59234178e-51]\n",
      "[4.79267234e-84 0.00000000e+00 0.00000000e+00 ... 5.95040434e-34\n",
      " 3.16923709e-34 2.50246476e-54]\n",
      "[3.39013259e-68 0.00000000e+00 0.00000000e+00 ... 9.85757791e-31\n",
      " 5.25023171e-31 3.90071590e-49]\n",
      "[2.26205351e-101 0.00000000e+000 0.00000000e+000 ... 1.02817977e-037\n",
      " 5.47617488e-038 9.02652013e-073]\n",
      "[8.08361071e-57 0.00000000e+00 0.00000000e+00 ... 1.41529786e-25\n",
      " 7.53799950e-26 9.13071812e-40]\n",
      "[9.20254158e-68 0.00000000e+00 0.00000000e+00 ... 1.91217130e-28\n",
      " 1.01843906e-28 2.03444886e-45]\n",
      "[0. 0. 0. ... 0. 0. 0.]\n",
      "[8.90659074e-67 0.00000000e+00 0.00000000e+00 ... 2.34110606e-27\n",
      " 1.24689345e-27 9.62520324e-45]\n",
      "[1.28487335e-72 0.00000000e+00 0.00000000e+00 ... 1.80440013e-28\n",
      " 9.61039200e-29 5.13543316e-47]\n",
      "[3.61130033e-62 9.73665015e-52 1.82810574e-51 ... 4.87195903e-32\n",
      " 2.59484775e-32 8.55161559e-51]\n",
      "[2.50947643e-70 0.00000000e+00 0.00000000e+00 ... 8.20692681e-30\n",
      " 4.37108059e-30 3.47567954e-47]\n",
      "[0. 0. 0. ... 0. 0. 0.]\n",
      "[1.07721086e-77 0.00000000e+00 0.00000000e+00 ... 1.11020887e-30\n",
      " 5.91306900e-31 3.99833525e-50]\n",
      "[0. 0. 0. ... 0. 0. 0.]\n",
      "[0. 0. 0. ... 0. 0. 0.]\n",
      "[2.10087315e-78 0.00000000e+00 0.00000000e+00 ... 6.00161568e-32\n",
      " 3.19651270e-32 3.23247292e-51]\n",
      "[0. 0. 0. ... 0. 0. 0.]\n",
      "[2.08802636e-77 0.00000000e+00 0.00000000e+00 ... 5.94267868e-31\n",
      " 3.16512234e-31 3.20072106e-50]\n",
      "[7.02403307e-80 0.00000000e+00 0.00000000e+00 ... 1.58241555e-33\n",
      " 8.42808281e-34 9.18659640e-53]\n",
      "[0.72474455 0.72474455 0.72474455 ... 0.72474455 0.72474455 0.72474455]\n",
      "[0. 0. 0. ... 0. 0. 0.]\n",
      "[8.18778418e-91 0.00000000e+00 0.00000000e+00 ... 6.62348569e-37\n",
      " 3.52772607e-37 2.09018649e-58]\n",
      "[2.56289690e-87 0.00000000e+00 0.00000000e+00 ... 2.80201658e-33\n",
      " 1.49237840e-33 8.21270378e-55]\n",
      "[9.29970939e-117 0.00000000e+000 0.00000000e+000 ... 8.13266421e-042\n",
      " 4.33152768e-042 2.22239192e-082]\n",
      "[2.25479530e-81 0.00000000e+00 0.00000000e+00 ... 4.55215522e-31\n",
      " 2.42451745e-31 1.64887084e-51]\n"
     ]
    }
   ],
   "source": [
    "00"
   ]
  },
  {
   "cell_type": "code",
   "execution_count": 35,
   "metadata": {},
   "outputs": [
    {
     "data": {
      "text/plain": [
       "array([0.00000000e+00, 0.00000000e+00, 0.00000000e+00, ...,\n",
       "       2.82752535e-36, 1.50596459e-36, 4.66771321e-46])"
      ]
     },
     "execution_count": 35,
     "metadata": {},
     "output_type": "execute_result"
    }
   ],
   "source": [
    "\n",
    "print(s.Y_list.list[1].variable_array)"
   ]
  },
  {
   "cell_type": "code",
   "execution_count": 36,
   "metadata": {},
   "outputs": [
    {
     "name": "stdout",
     "output_type": "stream",
     "text": [
      "H2\n",
      "[6.04062350e-34 1.01456208e-26 1.90489200e-26 ... 1.99256240e-15\n",
      " 1.06125606e-15 1.10757521e-24]\n",
      "H\n",
      "[0.00000000e+00 0.00000000e+00 0.00000000e+00 ... 2.82752535e-36\n",
      " 1.50596459e-36 4.66771321e-46]\n",
      "O\n",
      "[2.38132154e-50 6.48304525e-40 1.21722482e-39 ... 4.02904970e-25\n",
      " 2.14590691e-25 1.21807125e-39]\n",
      "O2\n",
      "[0.22008508 0.22008508 0.22008508 ... 0.22008508 0.22008508 0.22008508]\n",
      "OH\n",
      "[7.28801936e-51 0.00000000e+00 0.00000000e+00 ... 2.34765218e-28\n",
      " 1.25037996e-28 9.51803081e-43]\n",
      "H2O\n",
      "[1.28694394e-49 0.00000000e+00 0.00000000e+00 ... 8.38563024e-22\n",
      " 4.46625958e-22 1.32218128e-38]\n",
      "HO2\n",
      "[7.72635694e-39 2.62988059e-38 4.48807481e-38 ... 6.78035722e-25\n",
      " 3.61127721e-25 7.81590746e-39]\n",
      "H2O2\n",
      "[1.49924372e-52 0.00000000e+00 0.00000000e+00 ... 3.17262391e-25\n",
      " 1.68976708e-25 1.36348339e-42]\n",
      "C\n",
      "[0. 0. 0. ... 0. 0. 0.]\n",
      "CH\n",
      "[8.47081026e-109 0.00000000e+000 0.00000000e+000 ... 7.38689386e-055\n",
      " 3.93432390e-055 0.00000000e+000]\n",
      "CH2\n",
      "[1.67337577e-56 4.47310550e-44 8.39848380e-44 ... 3.33211916e-39\n",
      " 1.77471572e-39 3.63450322e-46]\n",
      "CH2(S)\n",
      "[1.04591988e-57 9.77877241e-46 1.83601441e-45 ... 1.28654256e-40\n",
      " 6.85223876e-41 4.32852159e-47]\n",
      "CH3\n",
      "[3.80591153e-39 1.23420463e-38 2.08731757e-38 ... 7.91266635e-26\n",
      " 4.21435490e-26 3.94468844e-39]\n",
      "CH4\n",
      "[0.05517037 0.05517037 0.05517037 ... 0.05517037 0.05517037 0.05517037]\n",
      "CO\n",
      "[5.72928658e-52 3.49670331e-40 6.56523886e-40 ... 4.44002185e-23\n",
      " 2.36479424e-23 2.12997040e-40]\n",
      "CO2\n",
      "[0.00000000e+00 0.00000000e+00 0.00000000e+00 ... 3.54208665e-26\n",
      " 1.88654615e-26 4.79566262e-42]\n",
      "HCO\n",
      "[1.01224783e-77 0.00000000e+00 0.00000000e+00 ... 1.53059190e-43\n",
      " 8.15206556e-44 0.00000000e+00]\n",
      "CH2O\n",
      "[1.53667325e-49 1.30128762e-41 2.44323388e-41 ... 3.17562378e-27\n",
      " 1.69136484e-27 2.74429602e-42]\n",
      "CH2OH\n",
      "[3.73607560e-90 0.00000000e+00 0.00000000e+00 ... 4.02966092e-46\n",
      " 2.14623245e-46 4.94393291e-83]\n",
      "CH3O\n",
      "[7.38274800e-57 2.90551029e-56 5.09780545e-56 ... 8.08946202e-35\n",
      " 4.30851781e-35 7.58489180e-57]\n",
      "CH3OH\n",
      "[1.74425602e-61 0.00000000e+00 0.00000000e+00 ... 3.59891778e-28\n",
      " 1.91681490e-28 1.24408793e-47]\n",
      "C2H\n",
      "[2.50537589e-132 0.00000000e+000 0.00000000e+000 ... 8.59499790e-058\n",
      " 4.57777062e-058 7.29007849e-098]\n",
      "C2H2\n",
      "[2.28224143e-73 0.00000000e+00 0.00000000e+00 ... 3.01471206e-28\n",
      " 1.60566186e-28 4.24432459e-47]\n",
      "C2H3\n",
      "[1.92674704e-118 0.00000000e+000 0.00000000e+000 ... 7.35789733e-049\n",
      " 3.91888010e-049 4.48466573e-089]\n",
      "C2H4\n",
      "[1.17533222e-73 0.00000000e+00 0.00000000e+00 ... 1.12019489e-27\n",
      " 5.96625538e-28 8.49208517e-47]\n",
      "C2H5\n",
      "[1.59381292e-78 0.00000000e+00 0.00000000e+00 ... 1.37492878e-40\n",
      " 7.32299025e-41 2.86523682e-78]\n",
      "C2H6\n",
      "[2.85466624e-69 0.00000000e+00 0.00000000e+00 ... 3.83549299e-28\n",
      " 2.04281692e-28 7.66298966e-48]\n",
      "HCCO\n",
      "[1.61930857e-118 0.00000000e+000 0.00000000e+000 ... 3.66893092e-044\n",
      " 1.95410451e-044 3.14800572e-084]\n",
      "CH2CO\n",
      "[8.76694334e-81 0.00000000e+00 0.00000000e+00 ... 1.09197184e-30\n",
      " 5.81593700e-31 4.59234178e-51]\n",
      "HCCOH\n",
      "[4.79267234e-84 0.00000000e+00 0.00000000e+00 ... 5.95040434e-34\n",
      " 3.16923709e-34 2.50246476e-54]\n",
      "N\n",
      "[3.39013259e-68 0.00000000e+00 0.00000000e+00 ... 9.85757791e-31\n",
      " 5.25023171e-31 3.90071590e-49]\n",
      "NH\n",
      "[2.26205351e-101 0.00000000e+000 0.00000000e+000 ... 1.02817977e-037\n",
      " 5.47617488e-038 9.02652013e-073]\n",
      "NH2\n",
      "[8.08361071e-57 0.00000000e+00 0.00000000e+00 ... 1.41529786e-25\n",
      " 7.53799950e-26 9.13071812e-40]\n",
      "NH3\n",
      "[9.20254158e-68 0.00000000e+00 0.00000000e+00 ... 1.91217130e-28\n",
      " 1.01843906e-28 2.03444886e-45]\n",
      "NNH\n",
      "[0. 0. 0. ... 0. 0. 0.]\n",
      "NO\n",
      "[8.90659074e-67 0.00000000e+00 0.00000000e+00 ... 2.34110606e-27\n",
      " 1.24689345e-27 9.62520324e-45]\n",
      "NO2\n",
      "[1.28487335e-72 0.00000000e+00 0.00000000e+00 ... 1.80440013e-28\n",
      " 9.61039200e-29 5.13543316e-47]\n",
      "N2O\n",
      "[3.61130033e-62 9.73665015e-52 1.82810574e-51 ... 4.87195903e-32\n",
      " 2.59484775e-32 8.55161559e-51]\n",
      "HNO\n",
      "[2.50947643e-70 0.00000000e+00 0.00000000e+00 ... 8.20692681e-30\n",
      " 4.37108059e-30 3.47567954e-47]\n",
      "CN\n",
      "[0. 0. 0. ... 0. 0. 0.]\n",
      "HCN\n",
      "[1.07721086e-77 0.00000000e+00 0.00000000e+00 ... 1.11020887e-30\n",
      " 5.91306900e-31 3.99833525e-50]\n",
      "H2CN\n",
      "[0. 0. 0. ... 0. 0. 0.]\n",
      "HCNN\n",
      "[0. 0. 0. ... 0. 0. 0.]\n",
      "HCNO\n",
      "[2.10087315e-78 0.00000000e+00 0.00000000e+00 ... 6.00161568e-32\n",
      " 3.19651270e-32 3.23247292e-51]\n",
      "HOCN\n",
      "[0. 0. 0. ... 0. 0. 0.]\n",
      "HNCO\n",
      "[2.08802636e-77 0.00000000e+00 0.00000000e+00 ... 5.94267868e-31\n",
      " 3.16512234e-31 3.20072106e-50]\n",
      "NCO\n",
      "[7.02403307e-80 0.00000000e+00 0.00000000e+00 ... 1.58241555e-33\n",
      " 8.42808281e-34 9.18659640e-53]\n",
      "N2\n",
      "[0.72474455 0.72474455 0.72474455 ... 0.72474455 0.72474455 0.72474455]\n",
      "AR\n",
      "[0. 0. 0. ... 0. 0. 0.]\n",
      "C3H7\n",
      "[8.18778418e-91 0.00000000e+00 0.00000000e+00 ... 6.62348569e-37\n",
      " 3.52772607e-37 2.09018649e-58]\n",
      "C3H8\n",
      "[2.56289690e-87 0.00000000e+00 0.00000000e+00 ... 2.80201658e-33\n",
      " 1.49237840e-33 8.21270378e-55]\n",
      "CH2CHO\n",
      "[9.29970939e-117 0.00000000e+000 0.00000000e+000 ... 8.13266421e-042\n",
      " 4.33152768e-042 2.22239192e-082]\n",
      "CH3CHO\n",
      "[2.25479530e-81 0.00000000e+00 0.00000000e+00 ... 4.55215522e-31\n",
      " 2.42451745e-31 1.64887084e-51]\n"
     ]
    }
   ],
   "source": [
    "for spe_arr in s.Y_list.list:\n",
    "    print(spe_arr.name)\n",
    "    print(spe_arr.variable_array)"
   ]
  },
  {
   "cell_type": "code",
   "execution_count": null,
   "metadata": {},
   "outputs": [],
   "source": []
  }
 ],
 "metadata": {
  "kernelspec": {
   "display_name": "Python 3",
   "language": "python",
   "name": "python3"
  },
  "language_info": {
   "codemirror_mode": {
    "name": "ipython",
    "version": 3
   },
   "file_extension": ".py",
   "mimetype": "text/x-python",
   "name": "python",
   "nbconvert_exporter": "python",
   "pygments_lexer": "ipython3",
   "version": "3.7.9"
  }
 },
 "nbformat": 4,
 "nbformat_minor": 4
}
